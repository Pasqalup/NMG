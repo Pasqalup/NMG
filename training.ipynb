{
 "cells": [
  {
   "cell_type": "code",
   "execution_count": null,
   "metadata": {},
   "outputs": [],
   "source": [
    "from tensorflow import keras\n",
    "from tensorflow.keras.layers import Dense, Flatten, Input\n",
    "import tensorflow as tf\n",
    "import pickle\n",
    "import numpy as np"
   ]
  },
  {
   "cell_type": "code",
   "execution_count": null,
   "metadata": {},
   "outputs": [],
   "source": [
    "#skip if you are not using gpu\n",
    "tf.test.is_gpu_available()"
   ]
  },
  {
   "cell_type": "code",
   "execution_count": 4,
   "metadata": {},
   "outputs": [],
   "source": [
    "#load pickles\n",
    "xp = open(\"X.pickle\",\"rb\")\n",
    "yp = open(\"Y.pickle\",\"rb\")\n",
    "x = pickle.load(xp)\n",
    "y = pickle.load(yp)\n",
    "xp.close()\n",
    "yp.close()"
   ]
  },
  {
   "cell_type": "code",
   "execution_count": null,
   "metadata": {},
   "outputs": [],
   "source": [
    "#create discriminator model\n",
    "D_model = keras.Sequential([\n",
    "    Input(shape=(230)),\n",
    "    Dense(230, activation=\"relu\"),\n",
    "    Dense(115, activation=\"relu\"),\n",
    "    Dense(1, activation=\"sigmoid\")\n",
    "], name=\"discriminator\")\n",
    "D_model.summary()"
   ]
  },
  {
   "cell_type": "code",
   "execution_count": null,
   "metadata": {},
   "outputs": [],
   "source": [
    "#create generator model\n",
    "G_model = keras.Sequential([\n",
    "    Input(shape=(20,230)),\n",
    "    Dense(230, activation=\"relu\"),\n",
    "    Flatten(),\n",
    "    Dense(250, activation=\"relu\"),\n",
    "    Dense(230, activation=\"sigmoid\"),\n",
    "], name=\"generator\")\n",
    "G_model.summary()"
   ]
  },
  {
   "cell_type": "code",
   "execution_count": 7,
   "metadata": {},
   "outputs": [],
   "source": [
    "#define custom GAN class\n",
    "class GAN(keras.Model):\n",
    "    def __init__(self,discriminator, generator, xs):\n",
    "        super().__init__()\n",
    "        self.discriminator = discriminator\n",
    "        self.generator = generator\n",
    "        self.xs = xs\n",
    "    def compile(self, d_op, g_op, loss_fn):\n",
    "        super().compile()\n",
    "        self.d_optimizer = d_op\n",
    "        self.g_optimizer = g_op\n",
    "        self.loss_fn = loss_fn\n",
    "        self.d_loss_metric = keras.metrics.Mean(name=\"d_loss\")\n",
    "        self.g_loss_metric = keras.metrics.Mean(name=\"g_loss\")\n",
    "    @property\n",
    "    def metrics(self):\n",
    "        return [self.d_loss_metric, self.g_loss_metric]\n",
    "    def train_step(self, real):\n",
    "        batch_size = tf.shape(real)[0]\n",
    "        generated = self.generator(tf.gather(self.xs,tf.random.uniform(minval=0,maxval=self.xs.shape[0], shape=[batch_size], dtype=tf.int32)))\n",
    "        print(generated)\n",
    "        combined_images = tf.concat([generated, real], axis=0)\n",
    "        labels = tf.concat([tf.ones((batch_size,1)), tf.zeros((batch_size,1))], axis=0)\n",
    "        labels+= 0.05* tf.random.uniform(tf.shape(labels))\n",
    "\n",
    "        with tf.GradientTape() as tape:\n",
    "            predictions = self.discriminator(combined_images)\n",
    "            d_loss = self.loss_fn(labels,predictions)\n",
    "        grads = tape.gradient(d_loss, self.discriminator.trainable_weights)\n",
    "        self.d_optimizer.apply_gradients(\n",
    "            zip(grads, self.discriminator.trainable_weights)\n",
    "        )\n",
    "        random_samples = tf.gather(self.xs,tf.random.uniform(minval=0,maxval=self.xs.shape[0], shape=[batch_size], dtype=tf.int32))\n",
    "        misleading_labels = tf.zeros((batch_size,1))\n",
    "        with tf.GradientTape() as tape:\n",
    "            predictions = self.discriminator(self.generator(random_samples))\n",
    "            g_loss = self.loss_fn(misleading_labels, predictions)\n",
    "        grads = tape.gradient(g_loss, self.generator.trainable_weights)\n",
    "        self.g_optimizer.apply_gradients(zip(grads, self.generator.trainable_weights))\n",
    "\n",
    "        self.d_loss_metric.update_state(d_loss)\n",
    "        self.g_loss_metric.update_state(g_loss)\n",
    "\n",
    "        return{\n",
    "            \"d_loss\": self.d_loss_metric.result(),\n",
    "            \"g_loss\": self.g_loss_metric.result(),\n",
    "        }"
   ]
  },
  {
   "cell_type": "code",
   "execution_count": 8,
   "metadata": {},
   "outputs": [],
   "source": [
    "#setup model for training\n",
    "epochs = 100\n",
    "\n",
    "gan = GAN(discriminator=D_model, generator=G_model, xs=tf.convert_to_tensor(x, dtype=tf.float32))\n",
    "gan.compile(\n",
    "    d_op=keras.optimizers.Adam(learning_rate=0.0001),\n",
    "    g_op=keras.optimizers.Adam(learning_rate=0.0001),\n",
    "    loss_fn=keras.losses.BinaryCrossentropy(),\n",
    ")"
   ]
  },
  {
   "cell_type": "code",
   "execution_count": null,
   "metadata": {},
   "outputs": [],
   "source": [
    "gan.fit(y,epochs=epochs)"
   ]
  },
  {
   "cell_type": "code",
   "execution_count": 10,
   "metadata": {},
   "outputs": [],
   "source": [
    "#save model\n",
    "gan.save_weights(\"gan.hdf5\")"
   ]
  },
  {
   "cell_type": "code",
   "execution_count": null,
   "metadata": {},
   "outputs": [],
   "source": []
  }
 ],
 "metadata": {
  "kernelspec": {
   "display_name": "music",
   "language": "python",
   "name": "python3"
  },
  "language_info": {
   "codemirror_mode": {
    "name": "ipython",
    "version": 3
   },
   "file_extension": ".py",
   "mimetype": "text/x-python",
   "name": "python",
   "nbconvert_exporter": "python",
   "pygments_lexer": "ipython3",
   "version": "3.9.16"
  },
  "orig_nbformat": 4
 },
 "nbformat": 4,
 "nbformat_minor": 2
}
