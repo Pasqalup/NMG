{
 "cells": [
  {
   "cell_type": "code",
   "execution_count": 2,
   "metadata": {},
   "outputs": [],
   "source": [
    "import os\n",
    "import cv2\n",
    "import pydub\n",
    "import math\n",
    "import numpy as np\n",
    "import matplotlib.pyplot as plt\n",
    "import pickle as p"
   ]
  },
  {
   "cell_type": "code",
   "execution_count": 3,
   "metadata": {},
   "outputs": [],
   "source": [
    "#define segment size\n",
    "\n",
    "segment_size = 30\n",
    "segment_size = segment_size*1000"
   ]
  },
  {
   "cell_type": "code",
   "execution_count": null,
   "metadata": {},
   "outputs": [],
   "source": [
    "#split all songs into parts and save\n",
    "songs = os.listdir(\"Songs/\")\n",
    "for song in songs:\n",
    "    d = pydub.AudioSegment.from_mp3(\"Songs/\" + song)\n",
    "    current_loc = 0\n",
    "    for i in range(math.ceil(len(d)/segment_size)):\n",
    "        if not current_loc+segment_size > len(d):\n",
    "            e = d[current_loc:current_loc+segment_size]\n",
    "            #get next [segment size] of music\n",
    "        else:\n",
    "            #get last parts of music and fill in the rest of the 30 seconds with silence\n",
    "            e = d[current_loc:]\n",
    "            silence = pydub.AudioSegment.silent(duration=(segment_size-(len(d)-current_loc)))\n",
    "            e = e + silence\n",
    "        current_loc+=segment_size\n",
    "        e.export(\"segments/Segment_{0}_of_{1}.wav\".format(i,song), format=\"wav\")\n"
   ]
  },
  {
   "cell_type": "code",
   "execution_count": null,
   "metadata": {},
   "outputs": [],
   "source": [
    "#use arss to convert audio to images\n",
    "segments = os.listdir(\"segments/\")\n",
    "for segment in segments:\n",
    "    seg_path = \"segments/\" + segment\n",
    "    seg_path = seg_path.replace(\" \",\"\\\\ \")\n",
    "    out_path = \"specs/\" + segment + \".bmp\"\n",
    "    out_path = out_path.replace(\" \",\"\\\\ \")\n",
    "    os.system(\"./arss {0}  {1} -q -a -min 20 -max 15000 -p 15 -b 24\".format(seg_path, out_path))\n"
   ]
  },
  {
   "cell_type": "code",
   "execution_count": null,
   "metadata": {},
   "outputs": [],
   "source": [
    "#prepare data for neural network\n",
    "specs = sorted(os.listdir(\"specs/\"))\n",
    "full_specs = []\n",
    "print(specs[0])\n",
    "for i, spec in enumerate(specs):\n",
    "    if i == 0:\n",
    "        full_specs = cv2.rotate(cv2.imread(\"specs/\" + spec, cv2.IMREAD_GRAYSCALE),cv2.ROTATE_90_CLOCKWISE)\n",
    "    else:\n",
    "        img = cv2.rotate(cv2.imread(\"specs/\" + spec, cv2.IMREAD_GRAYSCALE),cv2.ROTATE_90_CLOCKWISE)\n",
    "        full_specs=np.concatenate((full_specs,img), axis=0)\n",
    "print(full_specs.shape)\n",
    "\n",
    "x=[]\n",
    "context_len = 20\n",
    "for i in range(1,len(full_specs)-context_len):\n",
    "    x.append(full_specs[i:i+context_len])\n",
    "x=np.array(x)\n",
    "x = x/255.0\n",
    "\n",
    "print(x.shape)\n",
    "y = full_specs[context_len:-1]/255.0\n",
    "\n"
   ]
  },
  {
   "cell_type": "code",
   "execution_count": null,
   "metadata": {},
   "outputs": [],
   "source": [
    "#visualize\n",
    "plt.figure()\n",
    "plt.axis(\"off\")\n",
    "plt.margins(0)\n",
    "i = 0\n",
    "\n",
    "plt.imshow(x[i], cmap=\"gray\")\n",
    "\n",
    "plt.show()\n",
    "\n",
    "#prepare for arss\n",
    "#cv2.imwrite(\"spec.bmp\",cv2.rotate(x[i]*255.0, cv2.ROTATE_90_COUNTERCLOCKWISE))\n",
    "#os.chdir(os.path.abspath(\".\"))\n",
    "#os.system(\"ffmpeg -i spec.png -pix_fmt rgb24  spec.bmp -y -hide_banner\")"
   ]
  },
  {
   "cell_type": "code",
   "execution_count": 5,
   "metadata": {},
   "outputs": [],
   "source": [
    "#save to pickle\n",
    "xp = open(\"X.pickle\",\"wb\")\n",
    "yp = open(\"Y.pickle\",\"wb\")\n",
    "p.dump(x,xp)\n",
    "p.dump(y,yp)\n",
    "xp.close()\n",
    "yp.close()"
   ]
  },
  {
   "cell_type": "code",
   "execution_count": null,
   "metadata": {},
   "outputs": [],
   "source": []
  }
 ],
 "metadata": {
  "kernelspec": {
   "display_name": "music",
   "language": "python",
   "name": "python3"
  },
  "language_info": {
   "codemirror_mode": {
    "name": "ipython",
    "version": 3
   },
   "file_extension": ".py",
   "mimetype": "text/x-python",
   "name": "python",
   "nbconvert_exporter": "python",
   "pygments_lexer": "ipython3",
   "version": "3.9.16"
  },
  "orig_nbformat": 4
 },
 "nbformat": 4,
 "nbformat_minor": 2
}
